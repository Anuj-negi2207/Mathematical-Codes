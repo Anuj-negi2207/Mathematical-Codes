{
  "nbformat": 4,
  "nbformat_minor": 0,
  "metadata": {
    "colab": {
      "name": "Echelon Form Converter.ipynb",
      "provenance": []
    },
    "kernelspec": {
      "name": "python3",
      "display_name": "Python 3"
    }
  },
  "cells": [
    {
      "cell_type": "markdown",
      "metadata": {
        "id": "j-Dl7pYINHI1"
      },
      "source": [
        "# **This is a program which can convert a matrix into Echelon Form **\n",
        "### ***BY -Anuj Singh Negi, 19BAI10021***"
      ]
    },
    {
      "cell_type": "code",
      "metadata": {
        "id": "qbSsilOLGEbR"
      },
      "source": [
        "import numpy as np\n",
        "from fractions import Fraction as Fc\n",
        "from sympy import * \n",
        "import math"
      ],
      "execution_count": 1,
      "outputs": []
    },
    {
      "cell_type": "markdown",
      "metadata": {
        "id": "N8sVXu7lseDe"
      },
      "source": [
        "**Condition to check whether Matrix can be converted to Echelon form or not**"
      ]
    },
    {
      "cell_type": "code",
      "metadata": {
        "id": "Do3WlGSGE-0D"
      },
      "source": [
        "def ConditionBasic(A):\n",
        "  ret = 0\n",
        "  for i in range(row):\n",
        "    if(A[i][0]!=0):\n",
        "      continue\n",
        "    \n",
        "    else:\n",
        "      ret +=1\n",
        "  \n",
        "  return ret"
      ],
      "execution_count": 2,
      "outputs": []
    },
    {
      "cell_type": "markdown",
      "metadata": {
        "id": "9rMEKlaiz68Z"
      },
      "source": [
        "### **To convert all values to float**"
      ]
    },
    {
      "cell_type": "code",
      "metadata": {
        "id": "TpunBX8j0BJK"
      },
      "source": [
        "def ConvertFloat(A):\n",
        "  A = map(round, A)"
      ],
      "execution_count": 3,
      "outputs": []
    },
    {
      "cell_type": "markdown",
      "metadata": {
        "id": "9kVqjipnslqY"
      },
      "source": [
        "**To Replace or Interchange the Rows**"
      ]
    },
    {
      "cell_type": "code",
      "metadata": {
        "id": "jHim8hsTG905"
      },
      "source": [
        "def ReplaceRows(A, take, rep):\n",
        "  \n",
        "  for j in range(column):\n",
        "      A[take][j], A[rep][j] = A[rep][j], A[take][j]"
      ],
      "execution_count": 4,
      "outputs": []
    },
    {
      "cell_type": "markdown",
      "metadata": {
        "id": "zpUc8U-6szG1"
      },
      "source": [
        "**To Update the values using Elimination Method**"
      ]
    },
    {
      "cell_type": "code",
      "metadata": {
        "id": "trZwJRf8MyUm"
      },
      "source": [
        "def Update(A, take, up, ele):\n",
        "  m = float(A[take][ele])\n",
        "  n = float(A[up][ele])\n",
        "\n",
        "  D= m/n\n",
        "\n",
        "  for j in range(column):\n",
        "    A[take][j] = float(A[take][j]) - (float(A[up][j])*D)\n",
        "    #loooook Here\n"
      ],
      "execution_count": 5,
      "outputs": []
    },
    {
      "cell_type": "markdown",
      "metadata": {
        "id": "C4M-4zJkMRLd"
      },
      "source": [
        "**A function to find Greatest Common Divisor**"
      ]
    },
    {
      "cell_type": "code",
      "metadata": {
        "id": "i__FbMjkOzkx"
      },
      "source": [
        "def gcd(a,b) : \n",
        "    if (a < b) : \n",
        "        return gcd(b, a) \n",
        "      \n",
        "    # base case \n",
        "    if (abs(b) < 0.001) : \n",
        "        return a \n",
        "    else : \n",
        "        return (gcd(b, a - math.floor(a / b) * b))"
      ],
      "execution_count": 6,
      "outputs": []
    },
    {
      "cell_type": "markdown",
      "metadata": {
        "id": "OeSHIuBks-Jv"
      },
      "source": [
        "**This Function divides a row if a common divisor or HCF exists**"
      ]
    },
    {
      "cell_type": "code",
      "metadata": {
        "id": "yg4N6XhKSqS7"
      },
      "source": [
        "def ConditionAdv(A, r):\n",
        "\n",
        "  #Conditions to divide a row if a HCF exists\n",
        "  L=[]\n",
        "\n",
        "  for j in range(column):\n",
        "    if A[r][j] >0 or A[r][j]<0:\n",
        "      L.append(A[r][j]) \n",
        "\n",
        "  L =  [abs(ele) for ele in L]\n",
        "  L.sort()\n",
        "\n",
        "  L1=[]\n",
        "  for i in range(len(L)):\n",
        "    L1.append(gcd(L[i], L[0]))\n",
        "\n",
        "  divisor=L1[len(L1)-1]\n",
        "  for i in range(1, len(L1)):\n",
        "    if(L1[i] != divisor):\n",
        "      divisor =1\n",
        "      break\n",
        "    else:\n",
        "      continue\n",
        "      \n",
        "  #print(\"**** \", divisor)\n",
        "  \n",
        "  divisor = float(divisor)\n",
        "\n",
        "  for j in range(column):\n",
        "    A[r][j] = float(A[r][j])/divisor\n",
        "  \n",
        "    #print(\"&& \", A[r])\n",
        "\n",
        "  #Condition to convert element if all are negative\n",
        "  L3=[]\n",
        "\n",
        "  for j in range(column):\n",
        "    if A[r][j] >0 or A[r][j]<0:\n",
        "      L3.append(A[r][j]) \n",
        "  \n",
        "  multiplier = -1\n",
        "  for i in L3:\n",
        "    if i > 0:\n",
        "      multiplier = 1\n",
        "\n",
        "  for j in range(column):\n",
        "    if(A[r][j]!=0):\n",
        "      A[r][j] = A[r][j]*multiplier"
      ],
      "execution_count": 7,
      "outputs": []
    },
    {
      "cell_type": "markdown",
      "metadata": {
        "id": "mOz3BZ6o1eR6"
      },
      "source": [
        "### **Convert Pivot values to 1**"
      ]
    },
    {
      "cell_type": "code",
      "metadata": {
        "id": "P8xy_PYxvdi3"
      },
      "source": [
        "def ConditionOne(A):\n",
        "  for i in range(row):\n",
        "    L=[]\n",
        "\n",
        "    for j in range(column):\n",
        "      if(A[i][j]!=0):\n",
        "        L.append(A[i][j])\n",
        "\n",
        "    if len(L) is 0:\n",
        "      L.append(1) \n",
        "\n",
        "    for j in range(column):\n",
        "      A[i][j] = float(A[i][j])/L[0]\n",
        "      A[i][j] = round(A[i][j], 3)\n",
        "      F = A[i][j].as_integer_ratio()\n",
        "      if F[1] is 1:\n",
        "        print(A[i][j], end=\"  \")\n",
        "      else:\n",
        "        print(F[0],\"/\", F[1], end = \"   \")\n",
        "      \n",
        "      \n",
        "    print()"
      ],
      "execution_count": 8,
      "outputs": []
    },
    {
      "cell_type": "markdown",
      "metadata": {
        "id": "4JYMX8mPte34"
      },
      "source": [
        "# **Main Process to Convert into Row Echelon Form**"
      ]
    },
    {
      "cell_type": "code",
      "metadata": {
        "id": "2G7rEc6SHwZM"
      },
      "source": [
        "def Process(A):\n",
        "\n",
        "  i=1\n",
        "  while(A[0][0]==0):\n",
        "    ReplaceRows(A, 0, i)\n",
        "    i+=1\n",
        "    #print(\"Zero found in first row - replacing row 0 with %d - \" %i)\n",
        "    #print(A)\n",
        "  \n",
        "  for steps in range(1, row):\n",
        "    for i in range(row):\n",
        "      ConditionAdv(A, i)\n",
        "\n",
        "    for r in range(steps, row):\n",
        "      if A[r][steps-1] is 0:\n",
        "        continue\n",
        "      \n",
        "      else:\n",
        "        Update(A, r, steps-1, steps-1)"
      ],
      "execution_count": 9,
      "outputs": []
    },
    {
      "cell_type": "markdown",
      "metadata": {
        "id": "A9701uBBtm-R"
      },
      "source": [
        "# **A function to call other functions**"
      ]
    },
    {
      "cell_type": "code",
      "metadata": {
        "id": "uyFdrjgXF4Aa"
      },
      "source": [
        "def Echelon(A, row, column):\n",
        "\n",
        "  ConvertFloat(A)\n",
        "  print(\"Matrix = \\n\", A)\n",
        "  s= ConditionBasic(A)\n",
        "  \n",
        "  if(s == row):\n",
        "    print(\"Echelon Form for this Matrix doesn't exist\")\n",
        "\n",
        "  else:\n",
        "    print(\"Echelon Form for this Matrix exist\")\n",
        "    Process(A)\n",
        "    print(\"___________________________________________________________\")\n",
        "    print(\"Echelon Form - \")\n",
        "\n",
        "    ConditionOne(A)"
      ],
      "execution_count": 10,
      "outputs": []
    },
    {
      "cell_type": "markdown",
      "metadata": {
        "id": "LmvXUMcZr7ZI"
      },
      "source": [
        "# **MAIN** **Function**"
      ]
    },
    {
      "cell_type": "code",
      "metadata": {
        "colab": {
          "base_uri": "https://localhost:8080/",
          "height": 0
        },
        "id": "DqyL9IlyDoRp",
        "outputId": "a87c5fec-ffd9-4862-f723-0d0d18423c7c"
      },
      "source": [
        "#To Enter the rows and columns\n",
        "\n",
        "print('Enter the order (row X column) for the matrix: ')\n",
        "row = int(input(\"Row: \"))\n",
        "column = int(input(\"Column: \"))"
      ],
      "execution_count": 11,
      "outputs": [
        {
          "output_type": "stream",
          "text": [
            "Enter the order (row X column) for the matrix: \n",
            "Row: 3\n",
            "Column: 3\n"
          ],
          "name": "stdout"
        }
      ]
    },
    {
      "cell_type": "markdown",
      "metadata": {
        "id": "Clp-bEWVt4R7"
      },
      "source": [
        "**Here, the matrix is defined using direct values but can be edited as per user's choice.**"
      ]
    },
    {
      "cell_type": "code",
      "metadata": {
        "colab": {
          "base_uri": "https://localhost:8080/",
          "height": 0
        },
        "id": "qo4fxILlsENg",
        "outputId": "2d051b81-346c-4be4-e13a-3d84cd7d789e"
      },
      "source": [
        "A = np.array( [[1, 2, 3], [4, 5, 6], [7, 8, 9]], dtype='float64')\n",
        "#A = [[4, 6, 9], [22, 5, 36], [1, 9, 15]]\n",
        "Echelon(A, row, column)"
      ],
      "execution_count": 14,
      "outputs": [
        {
          "output_type": "stream",
          "text": [
            "Matrix = \n",
            " [[1. 2. 3.]\n",
            " [4. 5. 6.]\n",
            " [7. 8. 9.]]\n",
            "Echelon Form for this Matrix exist\n",
            "___________________________________________________________\n",
            "Echelon Form - \n",
            "1.0  2.0  3.0  \n",
            "0.0  1.0  2.0  \n",
            "0.0  0.0  0.0  \n"
          ],
          "name": "stdout"
        }
      ]
    },
    {
      "cell_type": "markdown",
      "metadata": {
        "id": "7L1JbPbxJzNK"
      },
      "source": [
        "## ***If User want to give the Matrix value one by one - ***"
      ]
    },
    {
      "cell_type": "code",
      "metadata": {
        "colab": {
          "base_uri": "https://localhost:8080/",
          "height": 0
        },
        "id": "2dDJGusb6FNE",
        "outputId": "477c22b0-0227-468d-bd9e-2ae058c0258b"
      },
      "source": [
        "print('Enter the matrix: ')\n",
        "for i in range(row):\n",
        "  for j in range(column):\n",
        "    A[i][j] = float(input(\"a%d%d - \" %(i+1,j+1)))\n",
        "\n",
        "Echelon(A, row, column)"
      ],
      "execution_count": 15,
      "outputs": [
        {
          "output_type": "stream",
          "text": [
            "Enter the matrix: \n",
            "a11 - 1\n",
            "a12 - 2\n",
            "a13 - 3\n",
            "a21 - 4\n",
            "a22 - 5\n",
            "a23 - 6\n",
            "a31 - 7\n",
            "a32 - 8\n",
            "a33 - 9\n",
            "Matrix = \n",
            " [[1. 2. 3.]\n",
            " [4. 5. 6.]\n",
            " [7. 8. 9.]]\n",
            "Echelon Form for this Matrix exist\n",
            "___________________________________________________________\n",
            "Echelon Form - \n",
            "1.0  2.0  3.0  \n",
            "0.0  1.0  2.0  \n",
            "0.0  0.0  0.0  \n"
          ],
          "name": "stdout"
        }
      ]
    },
    {
      "cell_type": "markdown",
      "metadata": {
        "id": "5oupQeJcJflO"
      },
      "source": [
        "***This is a direct method using Sympy module, which can directly give Echelon form. (Being Used to verify the answer)***"
      ]
    },
    {
      "cell_type": "code",
      "metadata": {
        "colab": {
          "base_uri": "https://localhost:8080/",
          "height": 0
        },
        "id": "gp9ejF_g0j5C",
        "outputId": "5a79b639-93be-4923-c6d8-340b98e77d01"
      },
      "source": [
        "from sympy import * \n",
        "  \n",
        "M = Matrix([[1, 2, 3], [4, 5, 6], [7, 8, 9]]) \n",
        "print(\"Matrix : {} \".format(M)) \n",
        "   \n",
        "# Use sympy.rref() method  \n",
        "M_rref = M.rref()   \n",
        "      \n",
        "print(\"The Row echelon form of matrix M and the pivot columns : {}\".format(M_rref))   \n"
      ],
      "execution_count": 16,
      "outputs": [
        {
          "output_type": "stream",
          "text": [
            "Matrix : Matrix([[1, 2, 3], [4, 5, 6], [7, 8, 9]]) \n",
            "The Row echelon form of matrix M and the pivot columns : (Matrix([\n",
            "[1, 0, -1],\n",
            "[0, 1,  2],\n",
            "[0, 0,  0]]), (0, 1))\n"
          ],
          "name": "stdout"
        }
      ]
    }
  ]
}