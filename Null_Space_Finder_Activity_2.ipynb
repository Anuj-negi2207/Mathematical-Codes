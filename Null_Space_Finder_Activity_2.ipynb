{
  "nbformat": 4,
  "nbformat_minor": 0,
  "metadata": {
    "colab": {
      "name": "Null Space Finder - Activity 2",
      "provenance": []
    },
    "kernelspec": {
      "name": "python3",
      "display_name": "Python 3"
    }
  },
  "cells": [
    {
      "cell_type": "markdown",
      "metadata": {
        "id": "cWB55Eiec9VQ"
      },
      "source": [
        "# **Activity 2**\r\n",
        "\r\n",
        "*Presented by - Anuj Singh Negi, 19BAI10021!*\r\n",
        "\r\n",
        "**Note- Please directly run the whole program because it contains too much functions with classes AND check for MAIN part.**"
      ]
    },
    {
      "cell_type": "markdown",
      "metadata": {
        "id": "nT1yijmLas6Q"
      },
      "source": [
        "**Importing the modules**"
      ]
    },
    {
      "cell_type": "code",
      "metadata": {
        "id": "MwaG21A2r_Eb"
      },
      "source": [
        "import numpy as np\r\n",
        "import pandas as pd\r\n",
        "import math"
      ],
      "execution_count": 1,
      "outputs": []
    },
    {
      "cell_type": "markdown",
      "metadata": {
        "id": "SHUX6hatawZ5"
      },
      "source": [
        "**A class to create numbers**\r\n",
        "\r\n",
        "(in any possible coding languages, it is not easy to use functions to present a value in its rational form , i.e. p/q , that's why I created a class )"
      ]
    },
    {
      "cell_type": "code",
      "metadata": {
        "id": "yiS806pl-XVe"
      },
      "source": [
        "class number:\r\n",
        "\r\n",
        "  nominator = 1\r\n",
        "  denominator = 1\r\n",
        "  N = 1.0\r\n",
        "\r\n",
        "  def __init__(self, value):      #if want to enter integer\r\n",
        "    self.nominator = value\r\n",
        "    self.denominator = 1\r\n",
        "    self.N = self.nominator/self.denominator\r\n",
        "\r\n",
        "  '''\r\n",
        "  def __init__(self, up, down):   #if want to enter fraction\r\n",
        "    self.nominator = up\r\n",
        "    self.denominator = down\r\n",
        "    self.N = nominator/denominator\r\n",
        "  '''\r\n",
        "\r\n",
        "  def update_number(self):\r\n",
        "    self.N = self.nominator/self.denominator\r\n",
        "    "
      ],
      "execution_count": 2,
      "outputs": []
    },
    {
      "cell_type": "markdown",
      "metadata": {
        "id": "gXGVLkeabWKB"
      },
      "source": [
        "**To check condition for converting into Echelon form**"
      ]
    },
    {
      "cell_type": "code",
      "metadata": {
        "id": "oNpsKQC-DwYp"
      },
      "source": [
        "def ConditionBasic(Matrix, row, column):\r\n",
        "  ret = 0\r\n",
        "  for i in range(row):\r\n",
        "    if(Matrix[i][0].nominator != 0):\r\n",
        "      continue\r\n",
        "    \r\n",
        "    else:\r\n",
        "      ret +=1\r\n",
        "  \r\n",
        "  return ret"
      ],
      "execution_count": 3,
      "outputs": []
    },
    {
      "cell_type": "markdown",
      "metadata": {
        "id": "vrW5yEUTbfOD"
      },
      "source": [
        "**To Replace rows if first value is zero**"
      ]
    },
    {
      "cell_type": "code",
      "metadata": {
        "id": "SGLEp_hcEmP6"
      },
      "source": [
        "def ReplaceRows(A, take, rep, columns):\r\n",
        "  \r\n",
        "  for j in range(columns):\r\n",
        "      A[take][j], A[rep][j] = A[rep][j], A[take][j]"
      ],
      "execution_count": 4,
      "outputs": []
    },
    {
      "cell_type": "markdown",
      "metadata": {
        "id": "DRBLrbFebk1D"
      },
      "source": [
        "**Function to find Greatest Common Factor**"
      ]
    },
    {
      "cell_type": "code",
      "metadata": {
        "id": "esYwpPhO2elq"
      },
      "source": [
        "def gcd(a,b) : \r\n",
        "    if (a<0):\r\n",
        "      a *= -1\r\n",
        "    \r\n",
        "    if (b<0):\r\n",
        "      b *= -1\r\n",
        "      \r\n",
        "    if (a < b) : \r\n",
        "        return gcd(b, a) \r\n",
        "      \r\n",
        "    # base case \r\n",
        "    if (abs(b) < 0.001) : \r\n",
        "        return a \r\n",
        "    else : \r\n",
        "        return (gcd(b, a - math.floor(a / b) * b))"
      ],
      "execution_count": 5,
      "outputs": []
    },
    {
      "cell_type": "markdown",
      "metadata": {
        "id": "_AEfQ8hzbtci"
      },
      "source": [
        "**To divide the values with pivot element (if exist)**"
      ]
    },
    {
      "cell_type": "code",
      "metadata": {
        "id": "CClPgUE6QMsa"
      },
      "source": [
        "def ConditionOne(Matrix, rows, columns):\r\n",
        "  \r\n",
        "  for i in range(rows):\r\n",
        "    for j in range(columns):\r\n",
        "      if(Matrix[i][j].nominator == 0):\r\n",
        "        continue\r\n",
        "\r\n",
        "      else:\r\n",
        "        temp = Matrix[i][j].nominator\r\n",
        "        break\r\n",
        "      \r\n",
        "    for k in range(j, columns):\r\n",
        "      Matrix[i][k].denominator = temp\r\n",
        "\r\n",
        "  for i in range(rows):\r\n",
        "    for j in range(columns):\r\n",
        "      factor = gcd(Matrix[i][j].nominator, Matrix[i][j].denominator)\r\n",
        "      \r\n",
        "      Matrix[i][j].nominator /= factor\r\n",
        "      Matrix[i][j].denominator /= factor\r\n",
        "\r\n",
        "      if (Matrix[i][j].denominator < 0):\r\n",
        "        Matrix[i][j].denominator = Matrix[i][j].denominator*(-1)\r\n",
        "        Matrix[i][j].nominator = Matrix[i][j].nominator*(-1)\r\n",
        "\r\n",
        "      if (Matrix[i][j].nominator == -0):\r\n",
        "        Matrix[i][j].nominator = 0\r\n",
        "\r\n",
        "      Matrix[i][j].N = Matrix[i][j].nominator/Matrix[i][j].denominator\r\n",
        "\r\n",
        "\r\n",
        "      "
      ],
      "execution_count": 6,
      "outputs": []
    },
    {
      "cell_type": "markdown",
      "metadata": {
        "id": "or_-YoeLb6Ey"
      },
      "source": [
        "**The function to perform Row-wise Elimination (Converts into Reduced Row Echelon Form)**"
      ]
    },
    {
      "cell_type": "code",
      "metadata": {
        "id": "1WGE6pURcy9C"
      },
      "source": [
        "def Update(Matrix, up, take, ele, columns):\r\n",
        "  to_be_used = number(1)\r\n",
        "  to_be_updated = number(1)\r\n",
        "\r\n",
        "  to_be_used.__dict__.update(Matrix[take][ele].__dict__)\r\n",
        "  to_be_updated.__dict__.update(Matrix[up][ele].__dict__)\r\n",
        "    \r\n",
        "  m1 = to_be_used.nominator\r\n",
        "  m2 = to_be_used.denominator\r\n",
        "\r\n",
        "  n1 = to_be_updated.nominator\r\n",
        "  n2 = to_be_updated.denominator\r\n",
        "\r\n",
        "  for j in range(columns):\r\n",
        "    Matrix[up][j].nominator = ((Matrix[up][j].nominator)*(Matrix[take][j].denominator)*n2*m1) - ((Matrix[take][j].nominator)*(Matrix[up][j].denominator)*n1*m2)\r\n",
        "    Matrix[up][j].dinominator = n2*m2*(Matrix[up][j].denominator)*(Matrix[take][j].denominator)\r\n",
        "    "
      ],
      "execution_count": 7,
      "outputs": []
    },
    {
      "cell_type": "markdown",
      "metadata": {
        "id": "UF3OXqXJcIkt"
      },
      "source": [
        "**The Processing Function**"
      ]
    },
    {
      "cell_type": "code",
      "metadata": {
        "id": "_Mb5MViGEaTi"
      },
      "source": [
        "def Process(A, Matrix, rows, columns):\r\n",
        "  \r\n",
        "  i=1\r\n",
        "  while(A[0][0] == 0):\r\n",
        "    ReplaceRows(A, 0, i, columns)\r\n",
        "    i+=1\r\n",
        "\r\n",
        "    if(A[0][0]!=0):\r\n",
        "      Matrix = [[number(A[i][j]) for j in range(columns)] for i in range(rows)]\r\n",
        "\r\n",
        "    #print(\"Zero found in first row - replacing row 0 with %d - \" %i)\r\n",
        "    #print(A)\r\n",
        "  \r\n",
        "  for steps in range(1, rows):\r\n",
        "    for r in range(steps, rows):\r\n",
        "      if (Matrix[r][steps-1].nominator == 0):\r\n",
        "        continue\r\n",
        "      \r\n",
        "      else:\r\n",
        "        Update(Matrix, r, steps-1, steps-1, columns)\r\n",
        "  \r\n",
        "  #Backward elimination\r\n",
        "  for steps in range((rows-2), -1, -1):\r\n",
        "    for r in range((steps), -1, -1):\r\n",
        "      if (Matrix[r][steps+1].nominator == 0):\r\n",
        "        continue\r\n",
        "      \r\n",
        "      else:\r\n",
        "        Update(Matrix, r, steps+1, steps+1, columns)"
      ],
      "execution_count": 8,
      "outputs": []
    },
    {
      "cell_type": "markdown",
      "metadata": {
        "id": "iYBMrTLkcOva"
      },
      "source": [
        "**A function to display the values**"
      ]
    },
    {
      "cell_type": "code",
      "metadata": {
        "id": "lmqVLzBTyaQT"
      },
      "source": [
        "def Display(Matrix, rows, columns):\r\n",
        "  \r\n",
        "  for i in range(rows):\r\n",
        "    for j in range(columns):\r\n",
        "\r\n",
        "      if(Matrix[i][j].nominator == 0 or Matrix[i][j].denominator == 1):\r\n",
        "        print(Matrix[i][j].nominator, end=\"\\t\")\r\n",
        "      \r\n",
        "      elif(Matrix[i][j].denominator == Matrix[i][j].nominator):\r\n",
        "        print(1, end=\"\\t\")\r\n",
        "\r\n",
        "      else:\r\n",
        "        print(\"%d/%d\" %(Matrix[i][j].nominator, Matrix[i][j].denominator), end=\"\\t\")\r\n",
        "    \r\n",
        "    print()"
      ],
      "execution_count": 9,
      "outputs": []
    },
    {
      "cell_type": "markdown",
      "metadata": {
        "id": "62KWvoducSxT"
      },
      "source": [
        "**A function to call all other functions**"
      ]
    },
    {
      "cell_type": "code",
      "metadata": {
        "id": "7p6P03QMECtF"
      },
      "source": [
        "def Echelon(A, Matrix, rows, columns):\r\n",
        "  s= ConditionBasic(Matrix, rows, columns)\r\n",
        "  \r\n",
        "  if(s == rows):\r\n",
        "    print(\"Echelon Form for this Matrix doesn't exist\")\r\n",
        "\r\n",
        "  else:\r\n",
        "    print(\"Echelon Form for this Matrix exist\\n\")\r\n",
        "\r\n",
        "    Process(A, Matrix, rows, columns)\r\n",
        "    print(\"________________________________________________________________________________________________\\n\")\r\n",
        "    print(\"Echelon Form - \")\r\n",
        "\r\n",
        "    ConditionOne(Matrix, rows, columns)\r\n",
        "    Display(Matrix, rows, columns)"
      ],
      "execution_count": 10,
      "outputs": []
    },
    {
      "cell_type": "markdown",
      "metadata": {
        "id": "DeipBmS7caqw"
      },
      "source": [
        "**Converts into Unit vectors**"
      ]
    },
    {
      "cell_type": "code",
      "metadata": {
        "id": "MJKOs0QmRhnY"
      },
      "source": [
        "def UnitVector(X, row, column):\r\n",
        "  for j in range(column):\r\n",
        "    norm = number(0)\r\n",
        "    to_be_used = number(0)\r\n",
        "    for i in range(row):\r\n",
        "      to_be_used.__dict__.update(X[i][j].__dict__)\r\n",
        "\r\n",
        "      m1 = (to_be_used.nominator)**2\r\n",
        "      m2 = (to_be_used.denominator)**2\r\n",
        "\r\n",
        "      n1 = norm.nominator\r\n",
        "      n2 = norm.denominator\r\n",
        "\r\n",
        "      norm.nominator = (n1*m2) + (n2*m1)\r\n",
        "      norm.denominator = (n2*m2)\r\n",
        "\r\n",
        "    factor = gcd(norm.nominator, norm.denominator)\r\n",
        "\r\n",
        "    norm.nominator /= factor \r\n",
        "    norm.denominator /= factor\r\n",
        "\r\n",
        "    norm.nominator = math.sqrt(norm.nominator)\r\n",
        "    norm.denominator = math.sqrt(norm.denominator)\r\n",
        "\r\n",
        "    for i in range(row):\r\n",
        "      X[i][j].nominator *= norm.denominator\r\n",
        "      X[i][j].denominator *= norm.nominator\r\n",
        "\r\n",
        "      factor = gcd(X[i][j].nominator, X[i][j].denominator)\r\n",
        "\r\n",
        "      X[i][j].nominator /= factor \r\n",
        "      X[i][j].denominator /= factor"
      ],
      "execution_count": 11,
      "outputs": []
    },
    {
      "cell_type": "markdown",
      "metadata": {
        "id": "REE0qSdDdIFR"
      },
      "source": [
        "**The Function to find Null Space and Standard Vectors**"
      ]
    },
    {
      "cell_type": "code",
      "metadata": {
        "id": "ax8IdnHx6KVU"
      },
      "source": [
        "def Solution(Matrix, rows, columns):\r\n",
        "  L = []\r\n",
        "  rank = rows\r\n",
        "  for i in range(rows):\r\n",
        "    count = 0\r\n",
        "    for j in range(columns):\r\n",
        "      if (Matrix[i][j].nominator == 0):\r\n",
        "        count += 1\r\n",
        "\r\n",
        "      if (i==j):\r\n",
        "        if (Matrix[i][j].nominator == 0):\r\n",
        "          L.append(j)\r\n",
        "    if (count == columns):\r\n",
        "      rank -= 1\r\n",
        "\r\n",
        "  Nullity = columns - rank\r\n",
        "\r\n",
        "  X = [[number(0) for j in range(Nullity)] for i in range(columns)]\r\n",
        "          \r\n",
        "  if (len(L)==0):\r\n",
        "    for i in range(columns):\r\n",
        "      for j in range(Nullity):\r\n",
        "        if ((i-rank) == j):\r\n",
        "          X[i][j].nominator = 1\r\n",
        "          X[i][j].denominator = 1\r\n",
        "        elif (i<4):\r\n",
        "          X[i][j].__dict__.update(Matrix[i][columns-j-1].__dict__) \r\n",
        "          X[i][j].nominator = X[i][j].nominator*(-1)          # x + 1 = 0   ->   x = 0 - 1 = -1\r\n",
        "  \r\n",
        "\r\n",
        "        \r\n",
        "  '''\r\n",
        "  else:\r\n",
        "    for index, j in L, range(Nullity):\r\n",
        "      X[index][j].nominator = 1\r\n",
        "  '''  \r\n",
        "\r\n",
        "  Mandotary = [[number(0) for j in range(rank)] for i in range(rank)]\r\n",
        "\r\n",
        "  for i in range(rank):\r\n",
        "    for j in range(rank):\r\n",
        "      Mandotary[i][j].__dict__.update(Matrix[i][j].__dict__)\r\n",
        "\r\n",
        "  print(\"Null Space (Unit vectors) - \\n\")\r\n",
        "  UnitVector(X, columns, Nullity)\r\n",
        "  Display(X, columns, Nullity)\r\n",
        "\r\n",
        "  print(\"________________________________________________________________________________________________\\n\")  \r\n",
        "  \r\n",
        "  print(\"The possible(standard) vectors: \")\r\n",
        "  Display(Mandotary, rank, rank)\r\n",
        "\r\n"
      ],
      "execution_count": 12,
      "outputs": []
    },
    {
      "cell_type": "markdown",
      "metadata": {
        "id": "_oodSjPuEDa1"
      },
      "source": [
        "## **Main**"
      ]
    },
    {
      "cell_type": "code",
      "metadata": {
        "colab": {
          "base_uri": "https://localhost:8080/"
        },
        "id": "9Ei0n_sEWoDx",
        "outputId": "b5535c3d-e20d-4624-e9e2-0dfd8c184fd7"
      },
      "source": [
        "if __name__ == '__main__':\r\n",
        "  #3 vectors \r\n",
        "  u = [2, 1, -4, 0]\r\n",
        "  v = [-1, -1, 2, 2]\r\n",
        "  w = [3, 2, 5, 4]\r\n",
        "\r\n",
        "  rows = 3\r\n",
        "  columns = len(u)\r\n",
        "\r\n",
        "  #This is an array to produce the values in Matrix\r\n",
        "  A = [u,v,w]\r\n",
        "  A = np.array(A)\r\n",
        "\r\n",
        "  print(\"Matrix from given vectors: \")\r\n",
        "  for i in range(rows):\r\n",
        "    for j in range(columns):\r\n",
        "      print(A[i][j], end=\"\\t\")\r\n",
        "    print()\r\n",
        "\r\n",
        "  print(\"________________________________________________________________________________________________\\n\")  \r\n",
        "  \r\n",
        "  #Original Matrix\r\n",
        "  Matrix = [[number(A[i][j]) for j in range(columns)] for i in range(rows)]\r\n",
        "\r\n",
        "\r\n",
        "  #Finding Reduced Row Echelon Form AND will give output\r\n",
        "  Echelon(A, Matrix, rows, columns)\r\n",
        "  \r\n",
        "  print(\"________________________________________________________________________________________________\\n\")  \r\n",
        "  \r\n",
        "  #Finding Null Space as unit vectors and the output\r\n",
        "  Solution(Matrix, rows, columns)\r\n",
        "  \r\n",
        "  print(\"________________________________________________________________________________________________\\n\")\r\n",
        "\r\n",
        "  #ATQ\r\n",
        "  print(\"So from above we can take all column vectors from Null space and rest required from Standard Vectors \")\r\n"
      ],
      "execution_count": 13,
      "outputs": [
        {
          "output_type": "stream",
          "text": [
            "Matrix from given vectors: \n",
            "2\t1\t-4\t0\t\n",
            "-1\t-1\t2\t2\t\n",
            "3\t2\t5\t4\t\n",
            "________________________________________________________________________________________________\n",
            "\n",
            "Echelon Form for this Matrix exist\n",
            "\n",
            "________________________________________________________________________________________________\n",
            "\n",
            "Echelon Form - \n",
            "1.0\t0\t0\t34/11\t\n",
            "0\t1.0\t0\t-4.0\t\n",
            "0\t0\t1.0\t6/11\t\n",
            "________________________________________________________________________________________________\n",
            "\n",
            "Null Space (Unit vectors) - \n",
            "\n",
            "-34/57\t\n",
            "44/57\t\n",
            "-2/19\t\n",
            "11/57\t\n",
            "________________________________________________________________________________________________\n",
            "\n",
            "The possible(standard) vectors: \n",
            "1.0\t0\t0\t\n",
            "0\t1.0\t0\t\n",
            "0\t0\t1.0\t\n",
            "________________________________________________________________________________________________\n",
            "\n",
            "So from above we can take all column vectors from Null space and rest required from Standard Vectors \n"
          ],
          "name": "stdout"
        }
      ]
    }
  ]
}